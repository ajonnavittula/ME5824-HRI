{
  "nbformat": 4,
  "nbformat_minor": 0,
  "metadata": {
    "colab": {
      "name": "trajopt.ipynb",
      "provenance": [],
      "collapsed_sections": [],
      "include_colab_link": true
    },
    "kernelspec": {
      "name": "python3",
      "display_name": "Python 3"
    },
    "language_info": {
      "name": "python"
    }
  },
  "cells": [
    {
      "cell_type": "markdown",
      "metadata": {
        "id": "view-in-github",
        "colab_type": "text"
      },
      "source": [
        "<a href=\"https://colab.research.google.com/github/ajonnavittula/ME5824-HRI/blob/main/HW4/trajopt.ipynb\" target=\"_parent\"><img src=\"https://colab.research.google.com/assets/colab-badge.svg\" alt=\"Open In Colab\"/></a>"
      ]
    },
    {
      "cell_type": "code",
      "execution_count": null,
      "metadata": {
        "id": "QlVec5J4a0EE"
      },
      "outputs": [],
      "source": [
        "### Link to Github Repo with the same code: ###\n",
        "### https://github.com/dylan-losey/me5824.git ###\n",
        "\n",
        "import matplotlib.pyplot as plt\n",
        "import numpy as np\n",
        "from scipy.optimize import minimize, LinearConstraint, NonlinearConstraint"
      ]
    },
    {
      "cell_type": "code",
      "source": [
        "### Create a class to perform the trajectory optimization ###\n",
        "\n",
        "class TrajOpt(object):\n",
        "\n",
        "    def __init__(self):\n",
        "\n",
        "        # initialize trajectory\n",
        "        self.n_waypoints = 10\n",
        "        self.n_dof = 2\n",
        "        self.home = np.array([0., 0.])\n",
        "        self.xi0 = np.zeros((self.n_waypoints, self.n_dof))\n",
        "        self.xi0 = self.xi0.reshape(-1)\n",
        "\n",
        "        # create start constraint and action constraint\n",
        "        self.B = np.zeros((self.n_dof, self.n_dof * self.n_waypoints))\n",
        "        for idx in range(self.n_dof):\n",
        "            self.B[idx,idx] = 1\n",
        "        self.lincon = LinearConstraint(self.B, self.home, self.home)\n",
        "        self.nonlincon = NonlinearConstraint(self.nl_function, -1.0, 1.0)\n",
        "\n",
        "    # each action cannot move more than 1 unit\n",
        "    def nl_function(self, xi):\n",
        "        xi = xi.reshape(self.n_waypoints, self.n_dof)\n",
        "        actions = xi[1:, :] - xi[:-1, :]\n",
        "        return np.linalg.norm(actions, axis=1)\n",
        "\n",
        "    # trajectory cost function\n",
        "    def trajcost(self, xi):\n",
        "        xi = xi.reshape(self.n_waypoints, self.n_dof)\n",
        "        cost = 0\n",
        "        ### define your cost function here ###\n",
        "        ### here is an example encouraging the robot to reach [5, 2] ###\n",
        "        for idx in range(self.n_waypoints):\n",
        "            cost += np.linalg.norm(np.array([4., 3.]) - xi[idx, :])\n",
        "            cost += 1*abs(xi[idx, 1])\n",
        "            if xi[idx, 1] < 0.05:\n",
        "              cost -= 1*xi[idx, 1]\n",
        "        return cost\n",
        "\n",
        "    # run the optimizer\n",
        "    def optimize(self):\n",
        "        res = minimize(self.trajcost, self.xi0, method='SLSQP', constraints={self.lincon, self.nonlincon}, options={'eps': 1e-3, 'maxiter': 1000})\n",
        "        xi = res.x.reshape(self.n_waypoints, self.n_dof)\n",
        "        return xi, res"
      ],
      "metadata": {
        "id": "h4q1QZuYbv6N"
      },
      "execution_count": null,
      "outputs": []
    },
    {
      "cell_type": "code",
      "source": [
        "### Run the trajectory optimizer ###\n",
        "\n",
        "trajopt = TrajOpt()\n",
        "xi, res = trajopt.optimize()\n",
        "print(xi)\n",
        "plt.plot(xi[:,0], xi[:,1], 'bo-')\n",
        "plt.plot(0, 0,  'gs', markersize=10, label='Start')\n",
        "plt.plot(4, 3,  'rs', markersize=10, label='Goal')\n",
        "plt.legend()\n",
        "plt.axis(\"equal\")\n",
        "plt.show()"
      ],
      "metadata": {
        "colab": {
          "base_uri": "https://localhost:8080/",
          "height": 439
        },
        "id": "62o6oSnydEBt",
        "outputId": "eaa4c1b0-54e8-4231-bdd3-4a8ceea99933"
      },
      "execution_count": null,
      "outputs": [
        {
          "output_type": "stream",
          "name": "stdout",
          "text": [
            "[[0.         0.        ]\n",
            " [0.99879898 0.0489958 ]\n",
            " [1.99879891 0.04901323]\n",
            " [2.99879884 0.04899491]\n",
            " [3.99387065 0.04898458]\n",
            " [3.99188275 0.97197579]\n",
            " [4.03034504 1.18648881]\n",
            " [3.99522503 2.13092249]\n",
            " [4.00148332 1.99750678]\n",
            " [3.99855789 2.96269541]]\n"
          ]
        },
        {
          "output_type": "display_data",
          "data": {
            "image/png": "[encoded data removed]",
            "text/plain": [
              "<Figure size 432x288 with 1 Axes>"
            ]
          },
          "metadata": {
            "needs_background": "light"
          }
        }
      ]
    }
  ]
}